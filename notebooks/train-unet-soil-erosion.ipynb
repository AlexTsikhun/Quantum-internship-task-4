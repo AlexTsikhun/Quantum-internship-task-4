{
 "cells": [
  {
   "cell_type": "code",
   "execution_count": 1,
   "id": "6e304636",
   "metadata": {
    "execution": {
     "iopub.execute_input": "2023-03-14T20:23:06.197424Z",
     "iopub.status.busy": "2023-03-14T20:23:06.196427Z",
     "iopub.status.idle": "2023-03-14T20:23:15.963165Z",
     "shell.execute_reply": "2023-03-14T20:23:15.961828Z"
    },
    "papermill": {
     "duration": 9.781538,
     "end_time": "2023-03-14T20:23:15.966259",
     "exception": false,
     "start_time": "2023-03-14T20:23:06.184721",
     "status": "completed"
    },
    "tags": []
   },
   "outputs": [],
   "source": [
    "import os\n",
    "import rasterio\n",
    "import numpy as np\n",
    "import pandas as pd\n",
    "import cv2\n",
    "import matplotlib.pyplot as plt\n",
    "from sklearn.model_selection import train_test_split\n",
    "from PIL import Image\n",
    "\n",
    "import tensorflow as tf\n",
    "\n",
    "from tensorflow.python.keras.callbacks import ModelCheckpoint\n",
    "from tensorflow.python.keras import Model\n",
    "from tensorflow.python.keras.models import Input\n",
    "from tensorflow.python.keras.layers import Conv2D, MaxPooling2D, Dropout, concatenate, UpSampling2D\n",
    "\n",
    "from keras.layers import Input, Conv2D, MaxPooling2D, UpSampling2D, concatenate, Conv2DTranspose, BatchNormalization, Dropout, Lambda\n",
    "\n",
    "from keras.utils import normalize\n",
    "import random"
   ]
  },
  {
   "cell_type": "code",
   "execution_count": 2,
   "id": "e4ff163b",
   "metadata": {
    "execution": {
     "iopub.execute_input": "2023-03-14T20:23:15.986896Z",
     "iopub.status.busy": "2023-03-14T20:23:15.985111Z",
     "iopub.status.idle": "2023-03-14T20:23:28.188848Z",
     "shell.execute_reply": "2023-03-14T20:23:28.187463Z"
    },
    "papermill": {
     "duration": 12.218208,
     "end_time": "2023-03-14T20:23:28.193304",
     "exception": false,
     "start_time": "2023-03-14T20:23:15.975096",
     "status": "completed"
    },
    "scrolled": true,
    "tags": []
   },
   "outputs": [
    {
     "name": "stdout",
     "output_type": "stream",
     "text": [
      "Collecting segmentation-models\r\n",
      "  Downloading segmentation_models-1.0.1-py3-none-any.whl (33 kB)\r\n",
      "Collecting efficientnet==1.0.0\r\n",
      "  Downloading efficientnet-1.0.0-py3-none-any.whl (17 kB)\r\n",
      "Collecting image-classifiers==1.0.0\r\n",
      "  Downloading image_classifiers-1.0.0-py3-none-any.whl (19 kB)\r\n",
      "Collecting keras-applications<=1.0.8,>=1.0.7\r\n",
      "  Downloading Keras_Applications-1.0.8-py3-none-any.whl (50 kB)\r\n",
      "\u001b[2K     \u001b[90m━━━━━━━━━━━━━━━━━━━━━━━━━━━━━━━━━━━━━━━━\u001b[0m \u001b[32m50.7/50.7 kB\u001b[0m \u001b[31m4.5 MB/s\u001b[0m eta \u001b[36m0:00:00\u001b[0m\r\n",
      "\u001b[?25hRequirement already satisfied: scikit-image in /opt/conda/lib/python3.7/site-packages (from efficientnet==1.0.0->segmentation-models) (0.19.3)\r\n",
      "Requirement already satisfied: numpy>=1.9.1 in /opt/conda/lib/python3.7/site-packages (from keras-applications<=1.0.8,>=1.0.7->segmentation-models) (1.21.6)\r\n",
      "Requirement already satisfied: h5py in /opt/conda/lib/python3.7/site-packages (from keras-applications<=1.0.8,>=1.0.7->segmentation-models) (3.8.0)\r\n",
      "Requirement already satisfied: PyWavelets>=1.1.1 in /opt/conda/lib/python3.7/site-packages (from scikit-image->efficientnet==1.0.0->segmentation-models) (1.3.0)\r\n",
      "Requirement already satisfied: imageio>=2.4.1 in /opt/conda/lib/python3.7/site-packages (from scikit-image->efficientnet==1.0.0->segmentation-models) (2.25.0)\r\n",
      "Requirement already satisfied: packaging>=20.0 in /opt/conda/lib/python3.7/site-packages (from scikit-image->efficientnet==1.0.0->segmentation-models) (23.0)\r\n",
      "Requirement already satisfied: pillow!=7.1.0,!=7.1.1,!=8.3.0,>=6.1.0 in /opt/conda/lib/python3.7/site-packages (from scikit-image->efficientnet==1.0.0->segmentation-models) (9.4.0)\r\n",
      "Requirement already satisfied: tifffile>=2019.7.26 in /opt/conda/lib/python3.7/site-packages (from scikit-image->efficientnet==1.0.0->segmentation-models) (2021.11.2)\r\n",
      "Requirement already satisfied: networkx>=2.2 in /opt/conda/lib/python3.7/site-packages (from scikit-image->efficientnet==1.0.0->segmentation-models) (2.6.3)\r\n",
      "Requirement already satisfied: scipy>=1.4.1 in /opt/conda/lib/python3.7/site-packages (from scikit-image->efficientnet==1.0.0->segmentation-models) (1.7.3)\r\n",
      "Installing collected packages: keras-applications, image-classifiers, efficientnet, segmentation-models\r\n",
      "Successfully installed efficientnet-1.0.0 image-classifiers-1.0.0 keras-applications-1.0.8 segmentation-models-1.0.1\r\n",
      "\u001b[33mWARNING: Running pip as the 'root' user can result in broken permissions and conflicting behaviour with the system package manager. It is recommended to use a virtual environment instead: https://pip.pypa.io/warnings/venv\u001b[0m\u001b[33m\r\n",
      "\u001b[0m"
     ]
    }
   ],
   "source": [
    "!pip install segmentation-models"
   ]
  },
  {
   "cell_type": "code",
   "execution_count": 3,
   "id": "d899b8e7",
   "metadata": {
    "execution": {
     "iopub.execute_input": "2023-03-14T20:23:28.227119Z",
     "iopub.status.busy": "2023-03-14T20:23:28.226312Z",
     "iopub.status.idle": "2023-03-14T20:23:28.241120Z",
     "shell.execute_reply": "2023-03-14T20:23:28.239859Z"
    },
    "papermill": {
     "duration": 0.037144,
     "end_time": "2023-03-14T20:23:28.243721",
     "exception": false,
     "start_time": "2023-03-14T20:23:28.206577",
     "status": "completed"
    },
    "tags": []
   },
   "outputs": [
    {
     "name": "stdout",
     "output_type": "stream",
     "text": [
      "env: SM_FRAMEWORK=tf.keras\n"
     ]
    }
   ],
   "source": [
    "%env SM_FRAMEWORK=tf.keras"
   ]
  },
  {
   "cell_type": "code",
   "execution_count": 4,
   "id": "fa02d57d",
   "metadata": {
    "execution": {
     "iopub.execute_input": "2023-03-14T20:23:28.278566Z",
     "iopub.status.busy": "2023-03-14T20:23:28.278056Z",
     "iopub.status.idle": "2023-03-14T20:23:28.666552Z",
     "shell.execute_reply": "2023-03-14T20:23:28.650051Z"
    },
    "papermill": {
     "duration": 0.409608,
     "end_time": "2023-03-14T20:23:28.669786",
     "exception": false,
     "start_time": "2023-03-14T20:23:28.260178",
     "status": "completed"
    },
    "tags": []
   },
   "outputs": [
    {
     "name": "stdout",
     "output_type": "stream",
     "text": [
      "Segmentation Models: using `tf.keras` framework.\n"
     ]
    }
   ],
   "source": [
    "import segmentation_models as sm"
   ]
  },
  {
   "cell_type": "code",
   "execution_count": 5,
   "id": "8ee37e4c",
   "metadata": {
    "execution": {
     "iopub.execute_input": "2023-03-14T20:23:28.702615Z",
     "iopub.status.busy": "2023-03-14T20:23:28.701980Z",
     "iopub.status.idle": "2023-03-14T20:23:28.710176Z",
     "shell.execute_reply": "2023-03-14T20:23:28.709238Z"
    },
    "papermill": {
     "duration": 0.028429,
     "end_time": "2023-03-14T20:23:28.713743",
     "exception": false,
     "start_time": "2023-03-14T20:23:28.685314",
     "status": "completed"
    },
    "tags": []
   },
   "outputs": [],
   "source": [
    "BACKBONE = 'resnet34'\n",
    "preprocess_input = sm.get_preprocessing(BACKBONE)"
   ]
  },
  {
   "cell_type": "code",
   "execution_count": 6,
   "id": "144654dd",
   "metadata": {
    "execution": {
     "iopub.execute_input": "2023-03-14T20:23:28.747317Z",
     "iopub.status.busy": "2023-03-14T20:23:28.746686Z",
     "iopub.status.idle": "2023-03-14T20:23:28.752264Z",
     "shell.execute_reply": "2023-03-14T20:23:28.751099Z"
    },
    "papermill": {
     "duration": 0.028463,
     "end_time": "2023-03-14T20:23:28.757541",
     "exception": false,
     "start_time": "2023-03-14T20:23:28.729078",
     "status": "completed"
    },
    "tags": []
   },
   "outputs": [],
   "source": [
    "\n",
    "# # Resolve TPU address\n",
    "# tpu = tf.distribute.cluster_resolver.TPUClusterResolver()  \n",
    "\n",
    "# # Connect to the TPU handle and initialize it\n",
    "# tf.config.experimental_connect_to_cluster(tpu)\n",
    "# tf.tpu.experimental.initialize_tpu_system(tpu)\n",
    "\n",
    "# # Define the strategy\n",
    "# strategy = tf.distribute.experimental.TPUStrategy(tpu)\n"
   ]
  },
  {
   "cell_type": "markdown",
   "id": "de281a20",
   "metadata": {
    "papermill": {
     "duration": 0.016236,
     "end_time": "2023-03-14T20:23:28.789615",
     "exception": false,
     "start_time": "2023-03-14T20:23:28.773379",
     "status": "completed"
    },
    "tags": []
   },
   "source": [
    "<font size=5>Show images</font>"
   ]
  },
  {
   "cell_type": "code",
   "execution_count": 7,
   "id": "b7e15017",
   "metadata": {
    "_cell_guid": "b1076dfc-b9ad-4769-8c92-a6c4dae69d19",
    "_uuid": "8f2839f25d086af736a60e9eeb907d3b93b6e0e5",
    "execution": {
     "iopub.execute_input": "2023-03-14T20:23:28.821533Z",
     "iopub.status.busy": "2023-03-14T20:23:28.821051Z",
     "iopub.status.idle": "2023-03-14T20:23:28.826333Z",
     "shell.execute_reply": "2023-03-14T20:23:28.825249Z"
    },
    "papermill": {
     "duration": 0.026801,
     "end_time": "2023-03-14T20:23:28.831386",
     "exception": false,
     "start_time": "2023-03-14T20:23:28.804585",
     "status": "completed"
    },
    "tags": []
   },
   "outputs": [],
   "source": [
    "# raster_path = \"/kaggle/input/images-soil-erosion/images/image_0_0.jp2\"\n",
    "# with rasterio.open(raster_path, \"r\", driver=\"JP2OpenJPEG\") as src:\n",
    "#     raster_img = src.read()\n",
    "#     raster_meta = src.meta"
   ]
  },
  {
   "cell_type": "code",
   "execution_count": 8,
   "id": "21a2301a",
   "metadata": {
    "execution": {
     "iopub.execute_input": "2023-03-14T20:23:28.860076Z",
     "iopub.status.busy": "2023-03-14T20:23:28.859690Z",
     "iopub.status.idle": "2023-03-14T20:23:28.863948Z",
     "shell.execute_reply": "2023-03-14T20:23:28.863029Z"
    },
    "papermill": {
     "duration": 0.022676,
     "end_time": "2023-03-14T20:23:28.868357",
     "exception": false,
     "start_time": "2023-03-14T20:23:28.845681",
     "status": "completed"
    },
    "tags": []
   },
   "outputs": [],
   "source": [
    "# plt.figure(figsize=(15,15))\n",
    "# plt.imshow(raster_img[0],  cmap='gray')"
   ]
  },
  {
   "cell_type": "code",
   "execution_count": null,
   "id": "f793e3c5",
   "metadata": {
    "papermill": {
     "duration": 0.013532,
     "end_time": "2023-03-14T20:23:28.895251",
     "exception": false,
     "start_time": "2023-03-14T20:23:28.881719",
     "status": "completed"
    },
    "tags": []
   },
   "outputs": [],
   "source": []
  },
  {
   "cell_type": "code",
   "execution_count": 9,
   "id": "15ee4fb3",
   "metadata": {
    "execution": {
     "iopub.execute_input": "2023-03-14T20:23:28.923585Z",
     "iopub.status.busy": "2023-03-14T20:23:28.923109Z",
     "iopub.status.idle": "2023-03-14T20:23:28.927683Z",
     "shell.execute_reply": "2023-03-14T20:23:28.926762Z"
    },
    "papermill": {
     "duration": 0.023997,
     "end_time": "2023-03-14T20:23:28.932353",
     "exception": false,
     "start_time": "2023-03-14T20:23:28.908356",
     "status": "completed"
    },
    "tags": []
   },
   "outputs": [],
   "source": [
    "# raster_path = \"/kaggle/input/patches-images-split/mask_0_0.jp2\"\n",
    "# with rasterio.open(raster_path, \"r\", driver=\"JP2OpenJPEG\") as src:\n",
    "#     raster_img = src.read()\n",
    "#     raster_meta = src.meta"
   ]
  },
  {
   "cell_type": "code",
   "execution_count": 10,
   "id": "1273857e",
   "metadata": {
    "execution": {
     "iopub.execute_input": "2023-03-14T20:23:28.959632Z",
     "iopub.status.busy": "2023-03-14T20:23:28.959289Z",
     "iopub.status.idle": "2023-03-14T20:23:28.963686Z",
     "shell.execute_reply": "2023-03-14T20:23:28.962701Z"
    },
    "papermill": {
     "duration": 0.022811,
     "end_time": "2023-03-14T20:23:28.968051",
     "exception": false,
     "start_time": "2023-03-14T20:23:28.945240",
     "status": "completed"
    },
    "tags": []
   },
   "outputs": [],
   "source": [
    "# plt.figure(figsize=(15,15))\n",
    "# plt.imshow(raster_img[0],  cmap='gray')"
   ]
  },
  {
   "cell_type": "code",
   "execution_count": null,
   "id": "d66b3462",
   "metadata": {
    "papermill": {
     "duration": 0.013164,
     "end_time": "2023-03-14T20:23:28.994473",
     "exception": false,
     "start_time": "2023-03-14T20:23:28.981309",
     "status": "completed"
    },
    "tags": []
   },
   "outputs": [],
   "source": []
  },
  {
   "cell_type": "markdown",
   "id": "4db2a471",
   "metadata": {
    "papermill": {
     "duration": 0.013176,
     "end_time": "2023-03-14T20:23:29.020572",
     "exception": false,
     "start_time": "2023-03-14T20:23:29.007396",
     "status": "completed"
    },
    "tags": []
   },
   "source": [
    "<font size=5>Capture images and masks info as a list</font>"
   ]
  },
  {
   "cell_type": "code",
   "execution_count": null,
   "id": "69fe7af8",
   "metadata": {
    "papermill": {
     "duration": 0.01598,
     "end_time": "2023-03-14T20:23:29.049681",
     "exception": false,
     "start_time": "2023-03-14T20:23:29.033701",
     "status": "completed"
    },
    "tags": []
   },
   "outputs": [],
   "source": []
  },
  {
   "cell_type": "code",
   "execution_count": 11,
   "id": "7b35567c",
   "metadata": {
    "execution": {
     "iopub.execute_input": "2023-03-14T20:23:29.069987Z",
     "iopub.status.busy": "2023-03-14T20:23:29.069548Z",
     "iopub.status.idle": "2023-03-14T20:23:29.074789Z",
     "shell.execute_reply": "2023-03-14T20:23:29.073630Z"
    },
    "papermill": {
     "duration": 0.018527,
     "end_time": "2023-03-14T20:23:29.077676",
     "exception": false,
     "start_time": "2023-03-14T20:23:29.059149",
     "status": "completed"
    },
    "tags": []
   },
   "outputs": [],
   "source": [
    "image_directory = '/kaggle/input/images-soil-erosion/images/'\n",
    "mask_directory = '/kaggle/input/masks-soil-erosion/masks/'"
   ]
  },
  {
   "cell_type": "code",
   "execution_count": 12,
   "id": "a1242913",
   "metadata": {
    "execution": {
     "iopub.execute_input": "2023-03-14T20:23:29.096822Z",
     "iopub.status.busy": "2023-03-14T20:23:29.096475Z",
     "iopub.status.idle": "2023-03-14T20:23:29.101324Z",
     "shell.execute_reply": "2023-03-14T20:23:29.100172Z"
    },
    "papermill": {
     "duration": 0.017108,
     "end_time": "2023-03-14T20:23:29.103827",
     "exception": false,
     "start_time": "2023-03-14T20:23:29.086719",
     "status": "completed"
    },
    "tags": []
   },
   "outputs": [],
   "source": [
    "SIZE = 256\n",
    "image_dataset = []  #Many ways to handle data, you can use pandas. Here, we are using a list format.  \n",
    "mask_dataset = []  #Place holders to define add labels. We will add 0 to all parasitized images and 1 to uninfected."
   ]
  },
  {
   "cell_type": "code",
   "execution_count": 13,
   "id": "01064257",
   "metadata": {
    "execution": {
     "iopub.execute_input": "2023-03-14T20:23:29.123816Z",
     "iopub.status.busy": "2023-03-14T20:23:29.122897Z",
     "iopub.status.idle": "2023-03-14T20:24:00.479217Z",
     "shell.execute_reply": "2023-03-14T20:24:00.478048Z"
    },
    "papermill": {
     "duration": 31.369618,
     "end_time": "2023-03-14T20:24:00.482666",
     "exception": false,
     "start_time": "2023-03-14T20:23:29.113048",
     "status": "completed"
    },
    "tags": []
   },
   "outputs": [],
   "source": [
    "images = os.listdir(image_directory)\n",
    "for i, image_name in enumerate(images):    #Remember enumerate method adds a counter and returns the enumerate object\n",
    "    if (image_name.split('.')[1] == 'jp2'):\n",
    "#         print(image_directory+image_name)\n",
    "        image = cv2.imread(image_directory+image_name, cv2.IMREAD_COLOR)\n",
    "        image = Image.fromarray(image)\n",
    "        image = image.resize((SIZE, SIZE))\n",
    "        image_dataset.append(np.array(image))\n"
   ]
  },
  {
   "cell_type": "code",
   "execution_count": 14,
   "id": "90cb2bc2",
   "metadata": {
    "execution": {
     "iopub.execute_input": "2023-03-14T20:24:00.512667Z",
     "iopub.status.busy": "2023-03-14T20:24:00.512125Z",
     "iopub.status.idle": "2023-03-14T20:24:10.398815Z",
     "shell.execute_reply": "2023-03-14T20:24:10.397614Z"
    },
    "papermill": {
     "duration": 9.904826,
     "end_time": "2023-03-14T20:24:10.401893",
     "exception": false,
     "start_time": "2023-03-14T20:24:00.497067",
     "status": "completed"
    },
    "scrolled": true,
    "tags": []
   },
   "outputs": [],
   "source": [
    "masks = os.listdir(mask_directory)\n",
    "for i, image_name in enumerate(masks):\n",
    "#     print(i)\n",
    "    if (image_name.split('.')[1] == 'jp2'):\n",
    "        image = cv2.imread(mask_directory+image_name, 0)\n",
    "#         print(mask_directory+image_name)\n",
    "        image = Image.fromarray(image)\n",
    "        image = image.resize((SIZE, SIZE))\n",
    "        mask_dataset.append(np.array(image))\n"
   ]
  },
  {
   "cell_type": "code",
   "execution_count": 15,
   "id": "3e081929",
   "metadata": {
    "execution": {
     "iopub.execute_input": "2023-03-14T20:24:10.423292Z",
     "iopub.status.busy": "2023-03-14T20:24:10.422097Z",
     "iopub.status.idle": "2023-03-14T20:24:10.427605Z",
     "shell.execute_reply": "2023-03-14T20:24:10.426423Z"
    },
    "papermill": {
     "duration": 0.01834,
     "end_time": "2023-03-14T20:24:10.430112",
     "exception": false,
     "start_time": "2023-03-14T20:24:10.411772",
     "status": "completed"
    },
    "tags": []
   },
   "outputs": [],
   "source": [
    "# print(len(image_dataset[0][1]), '\\n', len(mask_dataset))"
   ]
  },
  {
   "cell_type": "code",
   "execution_count": 16,
   "id": "10e9b8db",
   "metadata": {
    "execution": {
     "iopub.execute_input": "2023-03-14T20:24:10.449807Z",
     "iopub.status.busy": "2023-03-14T20:24:10.449443Z",
     "iopub.status.idle": "2023-03-14T20:24:10.596374Z",
     "shell.execute_reply": "2023-03-14T20:24:10.595106Z"
    },
    "papermill": {
     "duration": 0.159897,
     "end_time": "2023-03-14T20:24:10.599357",
     "exception": false,
     "start_time": "2023-03-14T20:24:10.439460",
     "status": "completed"
    },
    "tags": []
   },
   "outputs": [],
   "source": [
    "image_dataset = np.array(image_dataset)\n",
    "mask_dataset = np.array(mask_dataset)\n",
    "# mask_dataset = np.expand_dims(mask_dataset, axis=3)"
   ]
  },
  {
   "cell_type": "code",
   "execution_count": 17,
   "id": "60cbc5b5",
   "metadata": {
    "execution": {
     "iopub.execute_input": "2023-03-14T20:24:10.620076Z",
     "iopub.status.busy": "2023-03-14T20:24:10.619667Z",
     "iopub.status.idle": "2023-03-14T20:24:13.889231Z",
     "shell.execute_reply": "2023-03-14T20:24:13.887900Z"
    },
    "papermill": {
     "duration": 3.283497,
     "end_time": "2023-03-14T20:24:13.892367",
     "exception": false,
     "start_time": "2023-03-14T20:24:10.608870",
     "status": "completed"
    },
    "tags": []
   },
   "outputs": [],
   "source": [
    "#Normalize images\n",
    "image_dataset = normalize(image_dataset, axis=1)\n",
    "#D not normalize masks, just rescale to 0 to 1.\n",
    "mask_dataset = np.expand_dims((mask_dataset),3) /255."
   ]
  },
  {
   "cell_type": "code",
   "execution_count": 18,
   "id": "703c1af3",
   "metadata": {
    "execution": {
     "iopub.execute_input": "2023-03-14T20:24:13.913526Z",
     "iopub.status.busy": "2023-03-14T20:24:13.912855Z",
     "iopub.status.idle": "2023-03-14T20:24:13.918838Z",
     "shell.execute_reply": "2023-03-14T20:24:13.917520Z"
    },
    "papermill": {
     "duration": 0.021145,
     "end_time": "2023-03-14T20:24:13.923650",
     "exception": false,
     "start_time": "2023-03-14T20:24:13.902505",
     "status": "completed"
    },
    "tags": []
   },
   "outputs": [
    {
     "name": "stdout",
     "output_type": "stream",
     "text": [
      "(1849, 256, 256, 3) \n",
      " (1849, 256, 256, 1)\n"
     ]
    }
   ],
   "source": [
    "print(image_dataset.shape, '\\n', mask_dataset.shape)"
   ]
  },
  {
   "cell_type": "code",
   "execution_count": 19,
   "id": "a284d3e0",
   "metadata": {
    "execution": {
     "iopub.execute_input": "2023-03-14T20:24:13.945132Z",
     "iopub.status.busy": "2023-03-14T20:24:13.943954Z",
     "iopub.status.idle": "2023-03-14T20:24:15.060447Z",
     "shell.execute_reply": "2023-03-14T20:24:15.059257Z"
    },
    "papermill": {
     "duration": 1.129239,
     "end_time": "2023-03-14T20:24:15.063281",
     "exception": false,
     "start_time": "2023-03-14T20:24:13.934042",
     "status": "completed"
    },
    "tags": []
   },
   "outputs": [],
   "source": [
    "X_train, X_test, y_train, y_test = train_test_split(image_dataset, mask_dataset, test_size = 0.10, random_state = 123)"
   ]
  },
  {
   "cell_type": "code",
   "execution_count": 20,
   "id": "50035337",
   "metadata": {
    "execution": {
     "iopub.execute_input": "2023-03-14T20:24:15.083806Z",
     "iopub.status.busy": "2023-03-14T20:24:15.082814Z",
     "iopub.status.idle": "2023-03-14T20:24:15.088747Z",
     "shell.execute_reply": "2023-03-14T20:24:15.087680Z"
    },
    "papermill": {
     "duration": 0.018545,
     "end_time": "2023-03-14T20:24:15.091113",
     "exception": false,
     "start_time": "2023-03-14T20:24:15.072568",
     "status": "completed"
    },
    "tags": []
   },
   "outputs": [],
   "source": [
    "X_train = preprocess_input(X_train)\n",
    "X_test = preprocess_input(X_test)"
   ]
  },
  {
   "cell_type": "code",
   "execution_count": 21,
   "id": "46e9b236",
   "metadata": {
    "execution": {
     "iopub.execute_input": "2023-03-14T20:24:15.110751Z",
     "iopub.status.busy": "2023-03-14T20:24:15.110424Z",
     "iopub.status.idle": "2023-03-14T20:24:15.115609Z",
     "shell.execute_reply": "2023-03-14T20:24:15.114365Z"
    },
    "papermill": {
     "duration": 0.017959,
     "end_time": "2023-03-14T20:24:15.118106",
     "exception": false,
     "start_time": "2023-03-14T20:24:15.100147",
     "status": "completed"
    },
    "tags": []
   },
   "outputs": [],
   "source": [
    "IMG_HEIGHT = image_dataset.shape[1]\n",
    "IMG_WIDTH  = image_dataset.shape[2]\n",
    "IMG_CHANNELS = image_dataset.shape[3]"
   ]
  },
  {
   "cell_type": "markdown",
   "id": "0a9c92d1",
   "metadata": {
    "papermill": {
     "duration": 0.008925,
     "end_time": "2023-03-14T20:24:15.136279",
     "exception": false,
     "start_time": "2023-03-14T20:24:15.127354",
     "status": "completed"
    },
    "tags": []
   },
   "source": [
    "<font size='5'>For TPU</font>"
   ]
  },
  {
   "cell_type": "code",
   "execution_count": 22,
   "id": "86af4318",
   "metadata": {
    "execution": {
     "iopub.execute_input": "2023-03-14T20:24:15.157115Z",
     "iopub.status.busy": "2023-03-14T20:24:15.155913Z",
     "iopub.status.idle": "2023-03-14T20:24:15.161785Z",
     "shell.execute_reply": "2023-03-14T20:24:15.160822Z"
    },
    "papermill": {
     "duration": 0.018519,
     "end_time": "2023-03-14T20:24:15.163947",
     "exception": false,
     "start_time": "2023-03-14T20:24:15.145428",
     "status": "completed"
    },
    "scrolled": true,
    "tags": []
   },
   "outputs": [],
   "source": [
    "# # instantiating the model in the strategy scope creates the model on the TPU\n",
    "# with strategy.scope():\n",
    "#     model = sm.Unet(BACKBONE, encoder_weights='imagenet') # classes=2, activation='softmax'\n",
    "# #     model.compile(optimizer='adam', loss='binary_crossentropy', metrics=['mse'])    \n",
    "#     model.compile('Adam', loss=sm.losses.bce_jaccard_loss, metrics=[sm.metrics.iou_score])\n",
    "# #     class_weights = [0.1, 0.9] # higher weight for underrepresented class\n",
    "# #     loss = DiceLoss(class_weights=class_weights)\n",
    "# #     metrics = [IoU(threshold=0.5)]\n",
    "# #     model.compile(optimizer='adam', loss=loss, metrics=[sm.metrics.iou_score])\n",
    "# #     model.summary()\n",
    "\n",
    "# #     model.compile(optimizer='adam', loss='binary_crossentropy', metrics=['mse'])"
   ]
  },
  {
   "cell_type": "markdown",
   "id": "d8442da4",
   "metadata": {
    "papermill": {
     "duration": 0.00851,
     "end_time": "2023-03-14T20:24:15.181418",
     "exception": false,
     "start_time": "2023-03-14T20:24:15.172908",
     "status": "completed"
    },
    "tags": []
   },
   "source": [
    "<font size='5'>For GPU</font>"
   ]
  },
  {
   "cell_type": "code",
   "execution_count": 23,
   "id": "498e50e2",
   "metadata": {
    "execution": {
     "iopub.execute_input": "2023-03-14T20:24:15.201380Z",
     "iopub.status.busy": "2023-03-14T20:24:15.200358Z",
     "iopub.status.idle": "2023-03-14T20:24:23.892583Z",
     "shell.execute_reply": "2023-03-14T20:24:23.891434Z"
    },
    "papermill": {
     "duration": 8.704955,
     "end_time": "2023-03-14T20:24:23.895243",
     "exception": false,
     "start_time": "2023-03-14T20:24:15.190288",
     "status": "completed"
    },
    "tags": []
   },
   "outputs": [
    {
     "name": "stdout",
     "output_type": "stream",
     "text": [
      "Downloading data from https://github.com/qubvel/classification_models/releases/download/0.0.1/resnet34_imagenet_1000_no_top.h5\n",
      "85521592/85521592 [==============================] - 3s 0us/step\n"
     ]
    }
   ],
   "source": [
    "model = sm.Unet(BACKBONE, encoder_weights='imagenet')\n",
    "# model.compile(optimizer='adam', loss='binary_crossentropy', metrics=['mse'])\n",
    "# model.compile('Adam', loss=sm.losses.bce_jaccard_loss, metrics=[sm.metrics.iou_score],)\n",
    "model.compile('Adam', loss=sm.losses.bce_jaccard_loss, metrics=[sm.metrics.iou_score])"
   ]
  },
  {
   "cell_type": "code",
   "execution_count": 24,
   "id": "d94d6edb",
   "metadata": {
    "execution": {
     "iopub.execute_input": "2023-03-14T20:24:23.921879Z",
     "iopub.status.busy": "2023-03-14T20:24:23.920904Z",
     "iopub.status.idle": "2023-03-14T20:29:14.064226Z",
     "shell.execute_reply": "2023-03-14T20:29:14.062885Z"
    },
    "papermill": {
     "duration": 290.159737,
     "end_time": "2023-03-14T20:29:14.067331",
     "exception": false,
     "start_time": "2023-03-14T20:24:23.907594",
     "status": "completed"
    },
    "tags": []
   },
   "outputs": [
    {
     "name": "stdout",
     "output_type": "stream",
     "text": [
      "Epoch 1/5\n",
      "832/832 [==============================] - 89s 61ms/step - loss: 1.0395 - iou_score: 8.4380e-04 - val_loss: 1.0158 - val_iou_score: 4.3885e-04\n",
      "Epoch 2/5\n",
      "832/832 [==============================] - 49s 59ms/step - loss: 1.0158 - iou_score: 4.3339e-04 - val_loss: 1.0158 - val_iou_score: 3.6922e-04\n",
      "Epoch 3/5\n",
      "832/832 [==============================] - 48s 58ms/step - loss: 1.0158 - iou_score: 4.1899e-04 - val_loss: 1.0162 - val_iou_score: 3.9794e-04\n",
      "Epoch 4/5\n",
      "832/832 [==============================] - 50s 60ms/step - loss: 1.0159 - iou_score: 4.2616e-04 - val_loss: 1.0155 - val_iou_score: 3.9336e-04\n",
      "Epoch 5/5\n",
      "832/832 [==============================] - 48s 58ms/step - loss: 1.0159 - iou_score: 4.1203e-04 - val_loss: 1.0157 - val_iou_score: 3.0403e-04\n"
     ]
    }
   ],
   "source": [
    "history = model.fit(X_train, y_train, \n",
    "                    # 32 batch)size is wery large for kaggle gpu\n",
    "                    batch_size = 2, \n",
    "                    # tried different number of epochs (10-100), 10 for reduce expectation\n",
    "                    epochs=5, \n",
    "                    validation_data=(X_test, y_test), \n",
    "                    shuffle=False)\n"
   ]
  },
  {
   "cell_type": "code",
   "execution_count": null,
   "id": "187299d9",
   "metadata": {
    "papermill": {
     "duration": 0.265405,
     "end_time": "2023-03-14T20:29:14.600979",
     "exception": false,
     "start_time": "2023-03-14T20:29:14.335574",
     "status": "completed"
    },
    "tags": []
   },
   "outputs": [],
   "source": []
  },
  {
   "cell_type": "code",
   "execution_count": 25,
   "id": "d3061d73",
   "metadata": {
    "execution": {
     "iopub.execute_input": "2023-03-14T20:29:15.144284Z",
     "iopub.status.busy": "2023-03-14T20:29:15.143217Z",
     "iopub.status.idle": "2023-03-14T20:29:19.507722Z",
     "shell.execute_reply": "2023-03-14T20:29:19.504566Z"
    },
    "papermill": {
     "duration": 4.650383,
     "end_time": "2023-03-14T20:29:19.512864",
     "exception": false,
     "start_time": "2023-03-14T20:29:14.862481",
     "status": "completed"
    },
    "tags": []
   },
   "outputs": [],
   "source": [
    "model.save('/kaggle/working/unet-sm_5.h5')"
   ]
  },
  {
   "cell_type": "markdown",
   "id": "5496852c",
   "metadata": {
    "papermill": {
     "duration": 0.329261,
     "end_time": "2023-03-14T20:29:20.105585",
     "exception": false,
     "start_time": "2023-03-14T20:29:19.776324",
     "status": "completed"
    },
    "tags": []
   },
   "source": [
    "<font size='5'>Evaluate the model</font>"
   ]
  },
  {
   "cell_type": "code",
   "execution_count": 26,
   "id": "1f235421",
   "metadata": {
    "execution": {
     "iopub.execute_input": "2023-03-14T20:29:20.647162Z",
     "iopub.status.busy": "2023-03-14T20:29:20.644878Z",
     "iopub.status.idle": "2023-03-14T20:29:20.651543Z",
     "shell.execute_reply": "2023-03-14T20:29:20.650401Z"
    },
    "papermill": {
     "duration": 0.275526,
     "end_time": "2023-03-14T20:29:20.654191",
     "exception": false,
     "start_time": "2023-03-14T20:29:20.378665",
     "status": "completed"
    },
    "tags": []
   },
   "outputs": [],
   "source": [
    "# _, acc = model.evaluate(X_test, y_test)\n",
    "# print(\"Accuracy = \", (acc * 100.0), \"%\")"
   ]
  },
  {
   "cell_type": "code",
   "execution_count": 27,
   "id": "b7e4ee3c",
   "metadata": {
    "execution": {
     "iopub.execute_input": "2023-03-14T20:29:21.187121Z",
     "iopub.status.busy": "2023-03-14T20:29:21.186656Z",
     "iopub.status.idle": "2023-03-14T20:29:21.191899Z",
     "shell.execute_reply": "2023-03-14T20:29:21.190677Z"
    },
    "papermill": {
     "duration": 0.277671,
     "end_time": "2023-03-14T20:29:21.194283",
     "exception": false,
     "start_time": "2023-03-14T20:29:20.916612",
     "status": "completed"
    },
    "tags": []
   },
   "outputs": [],
   "source": [
    "# #plot the training and validation accuracy and loss at each epoch\n",
    "# loss = history.history['loss']\n",
    "# val_loss = history.history['val_loss']\n",
    "# epochs = range(1, len(loss) + 1)\n",
    "# plt.plot(epochs, loss, 'y', label='Training loss')\n",
    "# plt.plot(epochs, val_loss, 'r', label='Validation loss')\n",
    "# plt.title('Training and validation loss')\n",
    "# plt.xlabel('Epochs')\n",
    "# plt.ylabel('Loss')\n",
    "# plt.legend()\n",
    "# plt.show()"
   ]
  },
  {
   "cell_type": "code",
   "execution_count": 28,
   "id": "ee38641b",
   "metadata": {
    "execution": {
     "iopub.execute_input": "2023-03-14T20:29:21.729894Z",
     "iopub.status.busy": "2023-03-14T20:29:21.729480Z",
     "iopub.status.idle": "2023-03-14T20:29:23.177178Z",
     "shell.execute_reply": "2023-03-14T20:29:23.176017Z"
    },
    "papermill": {
     "duration": 1.718412,
     "end_time": "2023-03-14T20:29:23.179711",
     "exception": false,
     "start_time": "2023-03-14T20:29:21.461299",
     "status": "completed"
    },
    "tags": []
   },
   "outputs": [
    {
     "name": "stdout",
     "output_type": "stream",
     "text": [
      "1/1 [==============================] - 1s 930ms/step\n"
     ]
    },
    {
     "data": {
      "image/png": "[encoded data removed]",
      "text/plain": [
       "<Figure size 640x480 with 1 Axes>"
      ]
     },
     "metadata": {},
     "output_type": "display_data"
    }
   ],
   "source": [
    "test_img_number = 170#random.randint(0, len(X_test))\n",
    "# print(test_img_number)\n",
    "test_img = image_dataset[test_img_number]\n",
    "plt.imshow(test_img, cmap='gray')\n",
    "\n",
    "test_img = test_img.astype('uint8')\n",
    "test_img = cv2.resize(test_img, (256, 256))\n",
    "# plt.imshow(test_img, cmap='gray')\n",
    "# test_img = cv2.cvtColor(test_img, cv2.COLOR_RGB2BGR)\n",
    "# plt.imshow(test_img, cmap='gray')\n",
    "test_img = np.expand_dims(test_img, axis=0)\n",
    "\n",
    "prediction = model.predict(test_img)[0]\n"
   ]
  },
  {
   "cell_type": "code",
   "execution_count": 29,
   "id": "a6f2716c",
   "metadata": {
    "execution": {
     "iopub.execute_input": "2023-03-14T20:29:23.755157Z",
     "iopub.status.busy": "2023-03-14T20:29:23.754711Z",
     "iopub.status.idle": "2023-03-14T20:29:24.075088Z",
     "shell.execute_reply": "2023-03-14T20:29:24.073948Z"
    },
    "papermill": {
     "duration": 0.589036,
     "end_time": "2023-03-14T20:29:24.077583",
     "exception": false,
     "start_time": "2023-03-14T20:29:23.488547",
     "status": "completed"
    },
    "tags": []
   },
   "outputs": [
    {
     "data": {
      "text/plain": [
       "<matplotlib.image.AxesImage at 0x7f9b55cc27d0>"
      ]
     },
     "execution_count": 29,
     "metadata": {},
     "output_type": "execute_result"
    },
    {
     "data": {
      "image/png": "[encoded data removed]",
      "text/plain": [
       "<Figure size 640x480 with 1 Axes>"
      ]
     },
     "metadata": {},
     "output_type": "display_data"
    }
   ],
   "source": [
    "plt.imshow(mask_dataset[test_img_number], cmap='gray')"
   ]
  },
  {
   "cell_type": "code",
   "execution_count": 30,
   "id": "53e20d0e",
   "metadata": {
    "execution": {
     "iopub.execute_input": "2023-03-14T20:29:24.601346Z",
     "iopub.status.busy": "2023-03-14T20:29:24.600181Z",
     "iopub.status.idle": "2023-03-14T20:29:24.866264Z",
     "shell.execute_reply": "2023-03-14T20:29:24.865145Z"
    },
    "papermill": {
     "duration": 0.532356,
     "end_time": "2023-03-14T20:29:24.868970",
     "exception": false,
     "start_time": "2023-03-14T20:29:24.336614",
     "status": "completed"
    },
    "tags": []
   },
   "outputs": [
    {
     "data": {
      "text/plain": [
       "<matplotlib.image.AxesImage at 0x7f9b55c44a10>"
      ]
     },
     "execution_count": 30,
     "metadata": {},
     "output_type": "execute_result"
    },
    {
     "data": {
      "image/png": "[encoded data removed]",
      "text/plain": [
       "<Figure size 640x480 with 1 Axes>"
      ]
     },
     "metadata": {},
     "output_type": "display_data"
    }
   ],
   "source": [
    "# # Resize the image to (256, 256)\n",
    "# resized_img = cv2.resize(mask1, (256, 256))\n",
    "\n",
    "# # Convert the image to grayscale\n",
    "# # gray_img = cv2.cvtColor(resized_img, cv2.COLOR_BGR2GRAY)\n",
    "# prediction[prediction < 0.5] = 0\n",
    "# prediction[prediction > 0.5] = 1\n",
    "\n",
    "prediction_image = prediction.reshape((256, 256))\n",
    "plt.imshow(prediction_image)"
   ]
  },
  {
   "cell_type": "code",
   "execution_count": 31,
   "id": "4d64c2c9",
   "metadata": {
    "execution": {
     "iopub.execute_input": "2023-03-14T20:29:25.461484Z",
     "iopub.status.busy": "2023-03-14T20:29:25.459771Z",
     "iopub.status.idle": "2023-03-14T20:29:25.757296Z",
     "shell.execute_reply": "2023-03-14T20:29:25.756007Z"
    },
    "papermill": {
     "duration": 0.620874,
     "end_time": "2023-03-14T20:29:25.759856",
     "exception": false,
     "start_time": "2023-03-14T20:29:25.138982",
     "status": "completed"
    },
    "tags": []
   },
   "outputs": [
    {
     "data": {
      "image/png": "[encoded data removed]",
      "text/plain": [
       "<Figure size 640x480 with 2 Axes>"
      ]
     },
     "metadata": {},
     "output_type": "display_data"
    }
   ],
   "source": [
    "fig, ax = plt.subplots(1, 2)\n",
    "ax[0].imshow(mask_dataset[test_img_number])\n",
    "ax[1].imshow(prediction_image)\n",
    "plt.show()"
   ]
  },
  {
   "cell_type": "code",
   "execution_count": 32,
   "id": "faeb79da",
   "metadata": {
    "execution": {
     "iopub.execute_input": "2023-03-14T20:29:26.297761Z",
     "iopub.status.busy": "2023-03-14T20:29:26.297358Z",
     "iopub.status.idle": "2023-03-14T20:29:26.761672Z",
     "shell.execute_reply": "2023-03-14T20:29:26.760503Z"
    },
    "papermill": {
     "duration": 0.734983,
     "end_time": "2023-03-14T20:29:26.764431",
     "exception": false,
     "start_time": "2023-03-14T20:29:26.029448",
     "status": "completed"
    },
    "tags": []
   },
   "outputs": [
    {
     "name": "stdout",
     "output_type": "stream",
     "text": [
      "1/1 [==============================] - 0s 34ms/step\n"
     ]
    },
    {
     "data": {
      "image/png": "[encoded data removed]",
      "text/plain": [
       "<Figure size 640x480 with 2 Axes>"
      ]
     },
     "metadata": {},
     "output_type": "display_data"
    }
   ],
   "source": [
    "test_img = cv2.imread('/kaggle/input/images-soil-erosion/images/image_0_0.jp2', cv2.IMREAD_COLOR)       \n",
    "test_img = cv2.resize(test_img, (IMG_HEIGHT, IMG_WIDTH))\n",
    "test_img = cv2.cvtColor(test_img, cv2.COLOR_RGB2BGR)\n",
    "\n",
    "test_img1 = np.expand_dims(test_img, axis=0)\n",
    "\n",
    "prediction = model.predict(test_img1)[0]\n",
    "\n",
    "#View and Save segmented image\n",
    "prediction_image = prediction.reshape(256, 256)\n",
    "# plt.imshow(prediction_image, cmap='gray')\n",
    "# plt.imsave('membrane/test0_segmented.jpg', prediction_image, cmap='gray')\n",
    "\n",
    "fig, ax = plt.subplots(1, 2)\n",
    "ax[0].imshow(test_img)\n",
    "ax[1].imshow(prediction_image)\n",
    "plt.show()"
   ]
  },
  {
   "cell_type": "code",
   "execution_count": null,
   "id": "234c5949",
   "metadata": {
    "papermill": {
     "duration": 0.41723,
     "end_time": "2023-03-14T20:29:27.483259",
     "exception": false,
     "start_time": "2023-03-14T20:29:27.066029",
     "status": "completed"
    },
    "tags": []
   },
   "outputs": [],
   "source": []
  }
 ],
 "metadata": {
  "kernelspec": {
   "display_name": "Python 3",
   "language": "python",
   "name": "python3"
  },
  "language_info": {
   "codemirror_mode": {
    "name": "ipython",
    "version": 3
   },
   "file_extension": ".py",
   "mimetype": "text/x-python",
   "name": "python",
   "nbconvert_exporter": "python",
   "pygments_lexer": "ipython3",
   "version": "3.7.12"
  },
  "papermill": {
   "default_parameters": {},
   "duration": 395.899541,
   "end_time": "2023-03-14T20:29:31.032863",
   "environment_variables": {},
   "exception": null,
   "input_path": "__notebook__.ipynb",
   "output_path": "__notebook__.ipynb",
   "parameters": {},
   "start_time": "2023-03-14T20:22:55.133322",
   "version": "2.4.0"
  }
 },
 "nbformat": 4,
 "nbformat_minor": 5
}
